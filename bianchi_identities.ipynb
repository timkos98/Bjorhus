{
 "cells": [
  {
   "cell_type": "markdown",
   "metadata": {
    "jp-MarkdownHeadingCollapsed": true,
    "tags": []
   },
   "source": [
    "# **Scri Tutorial: Asymptotic Bondi Data**\n",
    "\n",
    "_A Python/numba code for manipulating time-dependent functions of spin-weighted spherical harmonics, now with more convenient support for working with asymptotic Bondi data!_\n",
    "\n",
    "First make sure you are using the master branch of the `10220` fork. To do this, run the following in your terminal in a location where you would like to clone the scri directory:\n",
    "\n",
    "```\n",
    "conda update conda -y\n",
    "conda update --all -y\n",
    "conda install -c conda-forge scri\n",
    "git clone git@github.com:10220/scri.git\n",
    "cd scri\n",
    "pip install .\n",
    "```\n",
    "By first installing the upstream version of `scri` through conda, we make sure that all the dependencies are satisfied. Then cloning and pip installing 10220's fork of `scri` will override conda installation of the upstream `scri`. NOTE: Make sure that the `pip` command here is your conda pip and not your system pip!\n",
    "\n",
    "Next you'll probably want some waveforms to play with. You can find the Weyl Scalars Catalog on the wheeler cluster at `/home/dante/my_data/weyl_scalars_catalog_RPXM`. If you need help deciding which waveforms are right for you, feel free to slack `Dante Iozzo` or email him at `dai32@cornell.edu`.\n",
    "\n",
    "---"
   ]
  },
  {
   "cell_type": "code",
   "execution_count": 1,
   "metadata": {},
   "outputs": [],
   "source": [
    "import numpy as np\n",
    "import matplotlib.pyplot as plt\n",
    "import scri \n",
    "from spherical_functions import LM_index as lm # for easily accessing mode data\n",
    "\n",
    "# There is a Numba bug that spits out some nasty warnings when using some scri functions.\n",
    "# This is the band-aid until the Numba bug is fixed:\n",
    "from numba.core.errors import NumbaWarning, NumbaDeprecationWarning, NumbaPendingDeprecationWarning\n",
    "import warnings\n",
    "warnings.simplefilter('ignore', category=NumbaWarning)\n",
    "warnings.simplefilter('ignore', category=NumbaDeprecationWarning)\n",
    "warnings.simplefilter('ignore', category=NumbaPendingDeprecationWarning)"
   ]
  },
  {
   "cell_type": "markdown",
   "metadata": {},
   "source": [
    "The new kid on the block is the `AsymptoticBondiData` container, called ABD for short. While it still does not have all the features of the `WaveformModes` objects, it has most of the important ones and a bunch of new flash gadgets that we'll explore together in this notebook! This is stil in active development so please let me know if you find a bug."
   ]
  },
  {
   "cell_type": "markdown",
   "metadata": {},
   "source": [
    "You can use the function `scri.SpEC.file_io.create_abd_from_h5` to import our waveforms and create an ABD. For consistency with most of the literature that we use, our waveforms will be converted to the Moreschi-Boyle sign convention. See the Appendix B of arXiv:2010.15200 for more information on this sign convention."
   ]
  },
  {
   "cell_type": "code",
   "execution_count": null,
   "metadata": {},
   "outputs": [],
   "source": [
    "waveform_dir = \"/Users/tim/OneDrive/All Documents/Code/NumericalRel/Ubuntu Directories/Jupyter/bianchi_identities/Data/Default\" # Example: \"/home/dante/weyl_scalar_catalog/bbh_q1_nospin/Lev5/bondi_cce_com\"\n",
    "cce_radius = 450 # The second smallest CCE radius is typically the optimal choice\n",
    "\n",
    "abd = scri.SpEC.file_io.create_abd_from_h5(\n",
    "    h    = f'{waveform_dir}/rh_FiniteRadii_CodeUnits.h5',\n",
    "#     Psi4 = f'{waveform_dir}/rMPsi4_BondiCce_R{cce_radius:04}_CoM.h5',\n",
    "#     Psi3 = f'{waveform_dir}/r2Psi3_BondiCce_R{cce_radius:04}_CoM.h5',\n",
    "#     Psi2 = f'{waveform_dir}/r3Psi2OverM_BondiCce_R{cce_radius:04}_CoM.h5',\n",
    "#     Psi1 = f'{waveform_dir}/r4Psi1OverM2_BondiCce_R{cce_radius:04}_CoM.h5',\n",
    "#     Psi0 = f'{waveform_dir}/r5Psi0OverM3_BondiCce_R{cce_radius:04}_CoM.h5',\n",
    "    file_format = 'RPXM',\n",
    ")\n",
    "\n",
    "# Or for Extrapolated waveforms\n",
    "# abd = scri.SpEC.file_io.abd_from_h5(\n",
    "#     h    = f'{waveform_dir}/rhOverM_Extrapolated_N5_CoM_Mem.h5',\n",
    "#     Psi4 = f'{waveform_dir}/rMPsi4_Extrapolated_N7_CoM.h5',\n",
    "#     Psi3 = f'{waveform_dir}/r2Psi3_Extrapolated_N7_CoM.h5',\n",
    "#     Psi2 = f'{waveform_dir}/r3Psi2OverM_Extrapolated_N5_CoM.h5',\n",
    "#     Psi1 = f'{waveform_dir}/r4Psi1OverM2_Extrapolated_N4_CoM.h5',\n",
    "#     Psi0 = f'{waveform_dir}/r5Psi0OverM3_Extrapolated_N2_CoM.h5',\n",
    "#     file_format = 'RPXM',\n",
    "# )"
   ]
  },
  {
   "cell_type": "markdown",
   "metadata": {},
   "source": [
    "All waveforms use the same time series, which can be access by:"
   ]
  },
  {
   "cell_type": "code",
   "execution_count": null,
   "metadata": {},
   "outputs": [],
   "source": [
    "print(abd.t)"
   ]
  },
  {
   "cell_type": "markdown",
   "metadata": {},
   "source": [
    "The data for any individual quantity can be accessed by:"
   ]
  },
  {
   "cell_type": "code",
   "execution_count": null,
   "metadata": {},
   "outputs": [],
   "source": [
    "abd.psi4"
   ]
  },
  {
   "cell_type": "markdown",
   "metadata": {},
   "source": [
    "The ABD stores the Newman-Penrose shear $\\sigma$ instead of the gravitational wave strain $h$. In the Moreschi-Boyle convention they are related by $h = \\bar{\\sigma}$. This conversion is done automatically in the `create_abd_from_h5` function. So if you want to get the strain waveform you'll have to do `abd.sigma.bar`, but more info on that below. "
   ]
  },
  {
   "cell_type": "markdown",
   "metadata": {},
   "source": [
    "Individual modes can be access by either the `abd.psi4.index` function, or with the `spherical_functions.LM_index` function which I have aliased to `lm`. The third argument of `lm` is `ell_min` but `ell_min=0` for `abd` so you can always just set it to zero."
   ]
  },
  {
   "cell_type": "code",
   "execution_count": null,
   "metadata": {},
   "outputs": [],
   "source": [
    "# Access the (2,1) mode of psi4\n",
    "abd.psi4[:, abd.psi4.index(2,1)]\n",
    "abd.psi4[:, lm(2,1,0)]"
   ]
  },
  {
   "cell_type": "markdown",
   "metadata": {},
   "source": [
    "You'll notice `abd.psi4` is not a `WaveformModes` object but a `ModesTimeSeries`. This allows us to perform operations more freely on the data and even compose operations:"
   ]
  },
  {
   "cell_type": "code",
   "execution_count": null,
   "metadata": {},
   "outputs": [],
   "source": [
    "# take a derivative or two\n",
    "psi4_dot  = abd.psi4.dot\n",
    "psi4_ddot = abd.psi4.ddot\n",
    "\n",
    "# Integrate once or twice\n",
    "psi4_int  = abd.psi4.int\n",
    "psi4_iint = abd.psi4.iint\n",
    "\n",
    "# Apply the eth or ethbar operator (using the GHP definition, which is the one that is natural to the Moreschi-Boyle convention)\n",
    "eth_psi4    = abd.psi4.eth_GHP\n",
    "ethbar_psi4 = abd.psi4.ethbar_GHP\n",
    "# If you really want to use the Newman-Penrose operators then you can do:\n",
    "# eth_psi4    = abd.psi4.eth\n",
    "# ethbar_psi4 = abd.psi4.ethbar\n",
    "\n",
    "# Get fancy and combine them together\n",
    "abd.sigma.dot.eth_GHP.eth_GHP\n",
    "\n",
    "# Don't believe it? Check the spin-weight\n",
    "abd.sigma.dot.eth_GHP.eth_GHP.s"
   ]
  },
  {
   "cell_type": "markdown",
   "metadata": {},
   "source": [
    "We can add `abd` quantities together, but only in a way that makes sense. It makes no sense to sum two quantities of different spin weights. So naturally only one of the following will work:"
   ]
  },
  {
   "cell_type": "code",
   "execution_count": null,
   "metadata": {},
   "outputs": [],
   "source": [
    "abd.psi4 + abd.psi3 # This will throw an error\n",
    "abd.psi4.eth_GHP + abd.psi3 # This will work\n",
    "\n",
    "# Check the spin weight on the whole thing:\n",
    "(abd.psi4.eth_GHP + abd.psi3).s"
   ]
  },
  {
   "cell_type": "markdown",
   "metadata": {},
   "source": [
    "We can also multiply quantites together! No longer will you have to convert to `WaveformGrid` objects and back again to compute this product! This does take a while though so if you're going to use this more than once, be sure to store the result as a variable:"
   ]
  },
  {
   "cell_type": "code",
   "execution_count": 22,
   "metadata": {},
   "outputs": [],
   "source": [
    "sigma_psi4 = abd.sigma * abd.psi4"
   ]
  },
  {
   "cell_type": "markdown",
   "metadata": {},
   "source": [
    "For a faster version you can do the following instead. Instead of multiplying mode weights, this will convert the quantities to values on a spherical grid, perfom the product, then transform back to a mode representation. Mike is working on a faster way to compute Wigner-D matrices, but until then you can use this function:"
   ]
  },
  {
   "cell_type": "code",
   "execution_count": null,
   "metadata": {},
   "outputs": [],
   "source": [
    "sigma_psi4 = abd.sigma.grid_multiply(abd.psi4)"
   ]
  },
  {
   "cell_type": "markdown",
   "metadata": {},
   "source": [
    "Now it's super simple to compute a Bondi balance law. Let's check $\\dot{\\psi}_2 - \\eth\\psi_3 - \\sigma\\psi_4 = 0$:"
   ]
  },
  {
   "cell_type": "code",
   "execution_count": null,
   "metadata": {},
   "outputs": [],
   "source": [
    "bondi_balance_law_psi2 = abd.psi2.dot - abd.psi3.eth_GHP - sigma_psi4"
   ]
  },
  {
   "cell_type": "markdown",
   "metadata": {},
   "source": [
    "But since we are going to be doing this a lot, we already have built-in tools for checking these constraints:"
   ]
  },
  {
   "cell_type": "code",
   "execution_count": null,
   "metadata": {},
   "outputs": [],
   "source": [
    "# Read the help text on these functions:\n",
    "\n",
    "# help(abd.bondi_constraints)\n",
    "# help(abd.bondi_violations)\n",
    "# help(abd.bondi_violation_norms)\n",
    "# help(abd.bondi_four_momentum)"
   ]
  },
  {
   "cell_type": "markdown",
   "metadata": {},
   "source": [
    "These functions take a while to run though, so I find it best to do the following:"
   ]
  },
  {
   "cell_type": "code",
   "execution_count": null,
   "metadata": {},
   "outputs": [],
   "source": [
    "# This takes the longest so let's only do it once\n",
    "constraints = abd.bondi_constraints()\n",
    "\n",
    "# This is just abd.bondi_violations\n",
    "violations = [lhs-rhs for (lhs, rhs) in constraints]\n",
    "\n",
    "# This is just abd.bondi_violation_norms\n",
    "violation_norms = np.array([v.norm() for v in violations])\n",
    "\n",
    "# Sometimes it's nice to see the relative norms (i.e. normalized with respect to the RHS of the balance laws)\n",
    "normalization = np.array([v.norm() for v in [rhs for (lhs, rhs) in constraints]])\n",
    "normalized_violation_norms = violation_norms / normalization"
   ]
  },
  {
   "cell_type": "markdown",
   "metadata": {},
   "source": [
    "We can make quick plots of the violations:"
   ]
  },
  {
   "cell_type": "code",
   "execution_count": null,
   "metadata": {},
   "outputs": [],
   "source": [
    "# If you have LaTeX support for matplotlib, then uncomment the following for a nicer legend\n",
    "# legend_labels = [\n",
    "#     r\"$\\dot{\\psi}_0 = \\eth \\psi_1 + 3 \\sigma \\psi_2$\",\n",
    "#     r\"$\\dot{\\psi}_1 = \\eth \\psi_2 + 2 \\sigma \\psi_3$\",\n",
    "#     r\"$\\dot{\\psi}_2 = \\eth \\psi_3 + \\sigma \\psi_4$\",\n",
    "#     r\"$\\psi_3 = - \\eth \\dot{\\bar{\\sigma}} $\",\n",
    "#     r\"$\\psi_4 = - \\ddot{\\bar{\\sigma}}$\",\n",
    "#     r\"$\\mathrm{Im}[\\psi_2] = -\\mathrm{Im}[\\eth^2 \\bar{\\sigma} + \\sigma \\dot{\\bar{\\sigma}}]$\"\n",
    "# ]\n",
    "\n",
    "legend_labels = [\n",
    "    \"Psi0_dot Eq.\",\n",
    "    \"Psi1_dot Eq.\",\n",
    "    \"Psi2_dot Eq.\",\n",
    "    \"Psi3 Eq.\",\n",
    "    \"Psi4 Eq.\",\n",
    "    \"Im[Psi2] Eq.\"\n",
    "]\n",
    "\n",
    "for i in reversed(range(6)):\n",
    "    plt.semilogy(abd.t, violation_norms[i], label=legend_labels[i])\n",
    "plt.xlabel(r\"u [M]\")\n",
    "plt.title(f\"Bondi Violation Norms\")\n",
    "plt.legend(ncol=2, prop={'size': 8})\n",
    "plt.show()"
   ]
  },
  {
   "cell_type": "markdown",
   "metadata": {},
   "source": [
    "A BMS transformation on an ABD will transform all the data together. Read the help text for more info."
   ]
  },
  {
   "cell_type": "code",
   "execution_count": null,
   "metadata": {},
   "outputs": [],
   "source": [
    "transformed_abd = abd.transform(boost_velocity=[0,0,1e-4])\n",
    "# help(abd.transform)"
   ]
  },
  {
   "cell_type": "markdown",
   "metadata": {},
   "source": [
    "### CAVEATS:\n",
    "\n",
    "When taking the real part, imaginary part, or the complex conjugate, be very careful to know whether you are acting on the whole quantity or just the modes of the quantity. For example:"
   ]
  },
  {
   "cell_type": "code",
   "execution_count": null,
   "metadata": {},
   "outputs": [],
   "source": [
    "# This takes the real part of the quantity Psi2, and then returns the modes of Re(Psi2). The mode weights are still complex!\n",
    "abd.psi2.real\n",
    "\n",
    "# This returns the real part of the mode weights of Psi2. This is an array of real numbers!\n",
    "abd.psi2.ndarray.real\n",
    "\n",
    "# This returns the modes of the complex conjugate of sigma. This is usually what you want.\n",
    "abd.sigma.bar \n",
    "\n",
    "# This returns the complex conjguate of the modes of sigma. This is usually NOT what you want.\n",
    "np.conjugate(abd.sigma.ndarray)\n",
    "\n",
    "# So the balance law for Psi3 should be:\n",
    "abd.psi3 + abd.sigma.bar.dot.eth_GHP"
   ]
  },
  {
   "cell_type": "markdown",
   "metadata": {},
   "source": [
    "Sometimes this can be a pain for plotting because you'll have to convert to a numpy array to plot the real, imag, abs of a mode:"
   ]
  },
  {
   "cell_type": "code",
   "execution_count": null,
   "metadata": {},
   "outputs": [],
   "source": [
    "plt.plot(abd.t, abd.sigma[:,lm(2,2,0)].ndarray.real)\n",
    "plt.plot(abd.t, abd.sigma[:,lm(2,2,0)].ndarray.imag)\n",
    "plt.plot(abd.t, np.abs(abd.sigma[:,lm(2,2,0)].ndarray))\n",
    "plt.show()"
   ]
  },
  {
   "cell_type": "markdown",
   "metadata": {},
   "source": [
    "# New Features!\n",
    "\n",
    "### Tools to make life easier"
   ]
  },
  {
   "cell_type": "markdown",
   "metadata": {},
   "source": [
    "You can make a copy of an ABD with:"
   ]
  },
  {
   "cell_type": "code",
   "execution_count": null,
   "metadata": {},
   "outputs": [],
   "source": [
    "new_abd = abd.copy()"
   ]
  },
  {
   "cell_type": "markdown",
   "metadata": {},
   "source": [
    "You can also interpolate all the waveforms in an ABD to a new set of times. This will even interpolate the frame rotors to the new times."
   ]
  },
  {
   "cell_type": "code",
   "execution_count": null,
   "metadata": {},
   "outputs": [],
   "source": [
    "interpolated_abd = abd.interpolate(new_t)"
   ]
  },
  {
   "cell_type": "markdown",
   "metadata": {},
   "source": [
    "### Rotating frames"
   ]
  },
  {
   "cell_type": "markdown",
   "metadata": {},
   "source": [
    "I hope you don't get vertigo, because ABD now supports frame rotations! Given a rotor `R` or an array of rotors `R`, you can rotate an individual value:"
   ]
  },
  {
   "cell_type": "code",
   "execution_count": null,
   "metadata": {},
   "outputs": [],
   "source": [
    "rotated_psi4 = abd.psi4.rotate_decomposition_basis(R)\n",
    "# also:\n",
    "rotated_psi4 = abd.psi4.rotate_physical_system(R)"
   ]
  },
  {
   "cell_type": "markdown",
   "metadata": {},
   "source": [
    "This will just return the rotated quantity and not store any more information about the rotation. However, you can also rotate all of the objects in an ABD and the ABD will then store the rotor or array of rotors that made the transformation:"
   ]
  },
  {
   "cell_type": "code",
   "execution_count": null,
   "metadata": {},
   "outputs": [],
   "source": [
    "abd.rotate_decomposition_basis(R)\n",
    "abd.rotate_physical_system(R)"
   ]
  },
  {
   "cell_type": "markdown",
   "metadata": {},
   "source": [
    "You can even go to the corotating or coprecessing frame. However, this is different for each quantity so you have to specify which quantity you will use to set the corotating (coprecessing) frame:"
   ]
  },
  {
   "cell_type": "code",
   "execution_count": null,
   "metadata": {},
   "outputs": [],
   "source": [
    "abd.to_corotating_frame(scri.psi4)\n",
    "abd.to_coprecessing_frame(scri.psi4)"
   ]
  },
  {
   "cell_type": "markdown",
   "metadata": {},
   "source": [
    "At any point you can undo all your frame rotations by:"
   ]
  },
  {
   "cell_type": "code",
   "execution_count": null,
   "metadata": {},
   "outputs": [],
   "source": [
    "abd.to_inertial_frame()"
   ]
  },
  {
   "cell_type": "markdown",
   "metadata": {},
   "source": [
    "The rotors or array of rotors that define the frame can be accessed by:"
   ]
  },
  {
   "cell_type": "code",
   "execution_count": null,
   "metadata": {},
   "outputs": [],
   "source": [
    "abd.frame"
   ]
  },
  {
   "cell_type": "markdown",
   "metadata": {},
   "source": [
    "### Supermomentum"
   ]
  },
  {
   "cell_type": "markdown",
   "metadata": {},
   "source": [
    "Get the Bondi 4-momentum or the mass aspect from the data:"
   ]
  },
  {
   "cell_type": "code",
   "execution_count": null,
   "metadata": {},
   "outputs": [],
   "source": [
    "P = abd.bondi_four_momentum()\n",
    "M = abd.mass_aspect()"
   ]
  },
  {
   "cell_type": "markdown",
   "metadata": {},
   "source": [
    "Or quickly compute the supermomentum. There are four definitions of the supermomentum currently available to be computed so DEFINITELY see the help text:"
   ]
  },
  {
   "cell_type": "code",
   "execution_count": null,
   "metadata": {},
   "outputs": [],
   "source": [
    "Psi = abd.supermomentum('Moreschi')\n",
    "# help(abd.supermomentum)"
   ]
  },
  {
   "cell_type": "markdown",
   "metadata": {},
   "source": [
    "For the sake of testing, Moreschi provides an equation for how the Moreschi-supermomentum transforms under a BMS transformation. This is available in the function:"
   ]
  },
  {
   "cell_type": "code",
   "execution_count": null,
   "metadata": {},
   "outputs": [],
   "source": [
    "help(scri.asymptotic_bondi_data.supermomentum.transform_moreschi_supermomentum)\n",
    "\n",
    "# So in a perfect world we should find:\n",
    "\n",
    "β = # some boost vector\n",
    "α = # some supertranslation\n",
    "Ψ = abd.supermomentum('Moreschi')\n",
    "abd_prime = abd.transform(boost_velocity=β, supertranslation=α)\n",
    "Ψ_prime_0 = abd_prime.supermomentum('Moreschi')\n",
    "Ψ_prime_1 = scri.asymptotic_bondi_data.supermomentum.transform_moreschi_supermomentum(Ψ, boost_velocity=β, supertranslation=α)\n",
    "\n",
    "# We should get Ψ_prime_0 == Ψ_prime_1, but there are issues around merger."
   ]
  },
  {
   "cell_type": "markdown",
   "metadata": {},
   "source": [
    "We can also provide another analysis of the spacetime by computing the speciality index $S$,\n",
    "$$S = \\frac{27 J^2}{I^3}$$\n",
    "where the curavture invariants $I$ and $J$ are defined by,\n",
    "\\begin{align}\n",
    "I &= \\psi_4 \\psi_0 - 4 \\psi_3 \\psi_1 + 3 \\psi_2^2 \\\\\n",
    "J &= \\mathrm{det} \\begin{pmatrix} \\psi_4 & \\psi_3 & \\psi_2 \\\\ \\psi_3 & \\psi_2 & \\psi_1 \\\\ \\psi_2 & \\psi_1 & \\psi_0 \\end{pmatrix}\n",
    "\\end{align}\n",
    "For algebraically special spacetimes, we get $S=1$. The following function will give the modal decomposition of $S$:"
   ]
  },
  {
   "cell_type": "code",
   "execution_count": null,
   "metadata": {},
   "outputs": [],
   "source": [
    "S = abd.speciality_index()"
   ]
  }
 ],
 "metadata": {
  "kernelspec": {
   "display_name": "Python 3 (ipykernel)",
   "language": "python",
   "name": "python3"
  },
  "language_info": {
   "codemirror_mode": {
    "name": "ipython",
    "version": 3
   },
   "file_extension": ".py",
   "mimetype": "text/x-python",
   "name": "python",
   "nbconvert_exporter": "python",
   "pygments_lexer": "ipython3",
   "version": "3.8.10"
  }
 },
 "nbformat": 4,
 "nbformat_minor": 4
}
